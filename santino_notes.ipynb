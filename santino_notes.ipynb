{
 "cells": [
  {
   "cell_type": "markdown",
   "id": "b35337a8",
   "metadata": {},
   "source": [
    "# NOSE QUE VERGA ES ESTO"
   ]
  },
  {
   "cell_type": "code",
   "execution_count": 5,
   "id": "4d2fa5dd",
   "metadata": {},
   "outputs": [],
   "source": [
    "import os\n",
    "import pandas as pd\n",
    "import geopandas as gpd\n",
    "import numpy as np\n",
    "import matplotlib.pyplot as plt"
   ]
  },
  {
   "cell_type": "code",
   "execution_count": 13,
   "id": "46bd4abc",
   "metadata": {},
   "outputs": [],
   "source": [
    "df_cuartos = gpd.read_file('data/geodata_historicos/df_cuartos.shp')\n",
    "df_hoteles = gpd.read_file('data/geodata_historicos/df_hoteles.shp')\n",
    "df_servicios = gpd.read_file('data/geodata_historicos/df_servicios.shp')"
   ]
  },
  {
   "cell_type": "markdown",
   "id": "a6c5531e",
   "metadata": {},
   "source": [
    "sacar moda por region de lo mas frecuente de los hotels y hay otra cosa"
   ]
  },
  {
   "cell_type": "markdown",
   "id": "71da8548",
   "metadata": {},
   "source": []
  },
  {
   "cell_type": "code",
   "execution_count": null,
   "id": "1791d26f",
   "metadata": {},
   "outputs": [],
   "source": []
  }
 ],
 "metadata": {
  "kernelspec": {
   "display_name": "base",
   "language": "python",
   "name": "python3"
  },
  "language_info": {
   "codemirror_mode": {
    "name": "ipython",
    "version": 3
   },
   "file_extension": ".py",
   "mimetype": "text/x-python",
   "name": "python",
   "nbconvert_exporter": "python",
   "pygments_lexer": "ipython3",
   "version": "3.12.7"
  }
 },
 "nbformat": 4,
 "nbformat_minor": 5
}
