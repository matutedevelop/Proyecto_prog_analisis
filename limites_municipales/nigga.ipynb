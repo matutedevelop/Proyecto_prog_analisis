{
 "cells": [
  {
   "cell_type": "code",
   "execution_count": null,
   "metadata": {},
   "outputs": [],
   "source": [
    "import geopandas as gpd\n",
    "import pandas as pd\n",
    "import numpy as np\n",
    "import matplotlib.pyplot as plt\n",
    "import os\n",
    "from shapely.geometry import Point\n",
    "import random\n",
    "from unidecode import unidecode"
   ]
  },
  {
   "cell_type": "code",
   "execution_count": null,
   "metadata": {},
   "outputs": [],
   "source": [
    "# Leer el archivo shapefile desde la carpeta de datos\n",
    "gdf = gpd.read_file('LimiteMunicipal_MGJ2012_modificadoDecreto26837.shp')\n",
    "gdf = gdf[gdf['NOMBRE'] != 'cautitlan de garcia']\n",
    "\n",
    "\n",
    "df_cuartos = pd.read_csv(r'..\\data\\data_historicos\\Cuartos_Hoteles_Historico.csv')\n",
    "df_hoteles = pd.read_csv(r'..\\data\\data_historicos\\Hoteles_Historico.csv')\n",
    "df_servicios = pd.read_csv(r'..\\data\\data_historicos\\Servicios_Turisticos_Historico.csv')"
   ]
  },
  {
   "cell_type": "code",
   "execution_count": null,
   "metadata": {},
   "outputs": [],
   "source": [
    "df_servicios[df_servicios['municipio'] == 'cautitlan de garcia b.'] \n",
    "df_hoteles[df_hoteles['municipio'] == 'cautitlan de garcia b.'] \n",
    "df_cuartos[df_cuartos['municipio'] == 'cautitlan de garcia b.'] "
   ]
  },
  {
   "cell_type": "code",
   "execution_count": null,
   "metadata": {},
   "outputs": [],
   "source": [
    "def normalizar(texto):\n",
    "    return unidecode(str(texto)).lower().replace('ñ', 'n').strip()\n",
    "\n",
    "\n",
    "df_cuartos['municipio'] = df_cuartos['municipio'].apply(lambda x: normalizar(x))\n",
    "df_hoteles['municipio'] = df_hoteles['municipio'].apply(lambda x: normalizar(x))\n",
    "df_servicios['municipio'] = df_servicios['municipio'].apply(lambda x : normalizar(x)) \n",
    "\n",
    "df_cuartos = df_cuartos[df_cuartos['municipio']!= 'municipio'] \n",
    "df_hoteles = df_hoteles[df_hoteles['municipio']!= 'municipio'] \n",
    "df_servicios = df_servicios[df_servicios['municipio'] != 'municipio'] \n",
    "\n"
   ]
  },
  {
   "cell_type": "code",
   "execution_count": null,
   "metadata": {},
   "outputs": [],
   "source": [
    "\n",
    "gdf = gdf.set_crs('EPSG:4326')  \n",
    "gdf.crs\n",
    "gdf.columns"
   ]
  },
  {
   "cell_type": "code",
   "execution_count": null,
   "metadata": {},
   "outputs": [],
   "source": [
    "from unidecode import unidecode\n",
    "gdf['NOMBRE'] = gdf['NOMBRE'].apply(unidecode)\n",
    "gdf['NOMBRE'] = gdf['NOMBRE'].str.lower()\n",
    "gdf['NOMBRE'].nunique(),df_servicios['municipio'].nunique(),df_cuartos['municipio'].nunique(),df_hoteles['municipio'].nunique()"
   ]
  },
  {
   "cell_type": "code",
   "execution_count": null,
   "metadata": {},
   "outputs": [],
   "source": [
    "# municipio = input(\"Ingrese el nombre del municipio: \").lower()\n",
    "municipio = 'jamay'\n",
    "municipio_gdf = gdf[gdf['NOMBRE'] == municipio]\n",
    "\n",
    "if municipio_gdf.empty:\n",
    "    print(\"El municipio no se encontró.\")\n",
    "else:\n",
    "\n",
    "    polygon = municipio_gdf.iloc[0].geometry\n",
    "\n",
    "    minx, miny, maxx, maxy = polygon.bounds\n",
    "    while True:\n",
    "        random_point = Point(random.uniform(minx, maxx), random.uniform(miny, maxy))\n",
    "        if polygon.contains(random_point):\n",
    "            print(type(random_point))\n",
    "            break\n",
    "        \n"
   ]
  },
  {
   "cell_type": "code",
   "execution_count": null,
   "metadata": {},
   "outputs": [],
   "source": [
    "def get_points(municipio:str):\n",
    "    \n",
    "     \n",
    "    municipio_gdf = gdf[gdf['NOMBRE'] == municipio]\n",
    "    # polygon = municipio_gdf.iloc[0]\n",
    "    if municipio_gdf.empty:\n",
    "        return None\n",
    "\n",
    "    print(municipio)\n",
    "    polygon = municipio_gdf.iloc[0].geometry\n",
    "\n",
    "    minx, miny, maxx, maxy = polygon.bounds\n",
    "    while True:\n",
    "        random_point = Point(random.uniform(minx, maxx), random.uniform(miny, maxy))\n",
    "        if polygon.contains(random_point):\n",
    "            return random_point"
   ]
  },
  {
   "cell_type": "code",
   "execution_count": null,
   "metadata": {},
   "outputs": [],
   "source": [
    "# Poner nombre de la region\n",
    "\n",
    "municipios_a_region = {\n",
    "        \"norte\": [\n",
    "            \"bolanos\", \"chimaltitan\", \"colotlan\", \"huejucar\", \"huejuquilla el alto\", \n",
    "            \"mezquitic\", \"san martin de bolanos\", \"totatiche\", \"villa guerrero\"\n",
    "        ],\n",
    "        \"altos norte\": [\n",
    "            \"encarnacion de diaz\", \"lagos de moreno\", \"ojuelos de jalisco\", \n",
    "            \"san diego de alejandro\", \"san juan de los lagos\", \"teocaltiche\", \n",
    "            \"union de san antonio\", \"villa hidalgo\"\n",
    "        ],\n",
    "        \"altos sur\": [\n",
    "            \"acatic\", \"arandas\", \"canadas de obregon\", \"jalostotitlan\", \n",
    "            \"jesus maria\", \"mexticacan\", \"san ignacio cerro gordo\", \n",
    "            \"san julian\", \"san miguel el alto\", \"tepatitlan de morelos\", \n",
    "            \"valle de guadalupe\", \"yahualica de gonzalez gallo\"\n",
    "        ],\n",
    "        \"cienega\": [\n",
    "            \"atotonilco el alto\", \"ayotlan\", \"chapala\", \"degollado\", \n",
    "            \"jamay\", \"jocotepec\", \"la barca\", \"ocotlan\", \n",
    "            \"poncitlan\", \"tizapan el alto\", \"tototlan\", \"tuxcueca\", \n",
    "            \"zapotlan del rey\"\n",
    "        ],\n",
    "        \"sureste\": [\n",
    "            \"concepcion de buenos aires\", \"la manzanilla de la paz\", \n",
    "            \"mazamitla\", \"pihuamo\", \"quitupan\", \"santa maria del oro\", \n",
    "            \"tamazula de gordiano\", \"tecalitlan\", \"valle de juarez\"\n",
    "        ],\n",
    "        \"sur\": [\n",
    "            \"amacueca\", \"atemajac de brizuela\", \"atoyac\", \"gomez farias\", \n",
    "            \"san gabriel\", \"sayula\", \"tapalpa\", \"tonila\", \n",
    "            \"tuxpan\", \"zacoalco de torres\", \"zapotiltic\", \"zapotitlan de vadillo\", \n",
    "            \"zapotlan el grande\"\n",
    "        ],\n",
    "        \"sierra de amula\": [\n",
    "            \"atengo\", \"chiquilistlan\", \"el grullo\", \"el limon\", \n",
    "            \"juchitlan\", \"tecotitlan\", \"tenamaxtlan\", \"tonaya\", \n",
    "            \"union de tula\"\n",
    "        ],\n",
    "        \"costa sur\": [\n",
    "            \"autlan de navarro\", \"casimiro castillo\", \"cihuatlan\", \n",
    "            \"la huerta\", \"villa purificacion\"\n",
    "        ],\n",
    "        \"costa norte\": [\n",
    "            \"cabo corrientes\", \"puerto vallarta\", \"tomatlan\"\n",
    "        ],\n",
    "        \"sierra occidental\": [\n",
    "            \"atenguillo\", \"ayutla\", \"guachinango\", \"mascota\", \n",
    "            \"san sebastian del oeste\", \"talpa de allende\"\n",
    "        ],\n",
    "        \"valles\": [\n",
    "            \"ahualulco de mercado\", \"amatitan\", \"ameca\", \"cocula\", \n",
    "            \"el arenal\", \"etzatlan\", \"hostotipaquillo\", \"magdalena\", \n",
    "            \"san juanito de escobedo\", \"san marcos\", \"san martin hidalgo\", \n",
    "            \"tala\", \"tequila\", \"teuchitlan\"\n",
    "        ],\n",
    "        \"centro\": [\n",
    "            \"cuquio\", \"el salto\", \"guadalajara\", \"ixtlahuacan de los membrillos\", \n",
    "            \"ixtlahuacan del rio\", \"san cristobal de la barranca\", \n",
    "            \"san pedro tlaquepaque\", \"tlajomulco de zuniga\", \"tonala\", \n",
    "            \"villa corona\", \"zapopan\", \"zapotlanejo\"\n",
    "        ]\n",
    "    }\n",
    "\n",
    "\n",
    "region_a_municipios = {municipio: region for region, municipios in municipios_a_region.items() for municipio in municipios}\n",
    "\n",
    "\n",
    "\n",
    "\n",
    "df_hoteles['region'] = df_hoteles['municipio'].map(region_a_municipios) \n",
    "df_cuartos['region'] = df_cuartos['municipio'].map(region_a_municipios) \n",
    "df_servicios['region'] = df_servicios['municipio'].map(region_a_municipios)\n",
    "\n",
    "\n",
    "\n",
    "df_servicios.loc[df_servicios['region'].isna()]['municipio'].nunique()\n"
   ]
  },
  {
   "cell_type": "code",
   "execution_count": null,
   "metadata": {},
   "outputs": [],
   "source": [
    "\n",
    "mapping = {municipio:get_points(municipio) for municipio in df_hoteles['municipio'].unique()}\n",
    "df_hoteles['geometry'] = df_hoteles['municipio'].map(mapping)\n",
    "\n",
    "\n",
    "mapping = {municipio:get_points(municipio) for municipio in df_cuartos['municipio'].unique()}\n",
    "df_cuartos['geometry'] = df_cuartos['municipio'].map(mapping)\n",
    "\n",
    "mapping = {municipio:get_points(municipio) for municipio in df_servicios['municipio'].unique()}\n",
    "df_servicios['geometry'] = df_servicios['municipio'].map(mapping)\n",
    "\n",
    "\n",
    "gpd.GeoDataFrame(df_hoteles).to_file(r'..\\data\\geodata_historicos\\df_hoteles.shp')\n",
    "gpd.GeoDataFrame(df_cuartos).to_file(r'..\\data\\geodata_historicos\\df_cuartos.shp')\n",
    "gpd.GeoDataFrame(df_servicios).to_file(r'..\\data\\geodata_historicos\\df_servicios.shp')\n",
    "\n",
    "\n"
   ]
  },
  {
   "cell_type": "code",
   "execution_count": 45,
   "metadata": {},
   "outputs": [
    {
     "data": {
      "text/plain": [
       "<pandas.core.groupby.generic.DataFrameGroupBy object at 0x000001D8CFD16180>"
      ]
     },
     "metadata": {},
     "output_type": "display_data"
    }
   ],
   "source": [
    "display(df_cuartos.groupby('municipio'))"
   ]
  },
  {
   "cell_type": "code",
   "execution_count": null,
   "metadata": {},
   "outputs": [],
   "source": []
  }
 ],
 "metadata": {
  "kernelspec": {
   "display_name": "Python 3",
   "language": "python",
   "name": "python3"
  },
  "language_info": {
   "codemirror_mode": {
    "name": "ipython",
    "version": 3
   },
   "file_extension": ".py",
   "mimetype": "text/x-python",
   "name": "python",
   "nbconvert_exporter": "python",
   "pygments_lexer": "ipython3",
   "version": "3.12.1"
  }
 },
 "nbformat": 4,
 "nbformat_minor": 2
}
